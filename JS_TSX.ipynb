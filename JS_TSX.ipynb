{
 "cells": [
  {
   "cell_type": "code",
   "execution_count": 1,
   "metadata": {},
   "outputs": [],
   "source": [
    "import os\n",
    "import glob\n",
    "import pandas as pd"
   ]
  },
  {
   "cell_type": "code",
   "execution_count": 3,
   "metadata": {},
   "outputs": [
    {
     "name": "stdout",
     "output_type": "stream",
     "text": [
      "Current working directory ::C:\\Users\\hp\\Documents\\js\\TSX_2019\n"
     ]
    }
   ],
   "source": [
    "os.chdir(\"./TSX_2019\")\n",
    "retval = os.getcwd()\n",
    "print (\"Current working directory ::\"+ retval)"
   ]
  },
  {
   "cell_type": "code",
   "execution_count": 4,
   "metadata": {},
   "outputs": [],
   "source": [
    "extension = 'csv'\n",
    "all_filenames = [i for i in glob.glob('*.{}'.format(extension))]"
   ]
  },
  {
   "cell_type": "code",
   "execution_count": 6,
   "metadata": {},
   "outputs": [],
   "source": [
    "#combine all files in the list\n",
    "combined_csv = pd.concat([pd.read_csv(f) for f in all_filenames ])\n",
    "#export to csv\n",
    "combined_csv.to_csv( \"Merged.csv\", index=False, encoding='utf-8-sig')"
   ]
  },
  {
   "cell_type": "code",
   "execution_count": 7,
   "metadata": {
    "scrolled": true
   },
   "outputs": [
    {
     "data": {
      "text/html": [
       "<div>\n",
       "<style scoped>\n",
       "    .dataframe tbody tr th:only-of-type {\n",
       "        vertical-align: middle;\n",
       "    }\n",
       "\n",
       "    .dataframe tbody tr th {\n",
       "        vertical-align: top;\n",
       "    }\n",
       "\n",
       "    .dataframe thead th {\n",
       "        text-align: right;\n",
       "    }\n",
       "</style>\n",
       "<table border=\"1\" class=\"dataframe\">\n",
       "  <thead>\n",
       "    <tr style=\"text-align: right;\">\n",
       "      <th></th>\n",
       "      <th>Symbol</th>\n",
       "      <th>Date</th>\n",
       "      <th>Open</th>\n",
       "      <th>High</th>\n",
       "      <th>Low</th>\n",
       "      <th>Close</th>\n",
       "      <th>Volume</th>\n",
       "    </tr>\n",
       "  </thead>\n",
       "  <tbody>\n",
       "    <tr>\n",
       "      <th>0</th>\n",
       "      <td>AAB.TO</td>\n",
       "      <td>01 Jan 2019</td>\n",
       "      <td>0.06</td>\n",
       "      <td>0.06</td>\n",
       "      <td>0.06</td>\n",
       "      <td>0.06</td>\n",
       "      <td>0</td>\n",
       "    </tr>\n",
       "    <tr>\n",
       "      <th>1</th>\n",
       "      <td>AAV.TO</td>\n",
       "      <td>01 Jan 2019</td>\n",
       "      <td>1.98</td>\n",
       "      <td>1.98</td>\n",
       "      <td>1.98</td>\n",
       "      <td>1.98</td>\n",
       "      <td>0</td>\n",
       "    </tr>\n",
       "    <tr>\n",
       "      <th>2</th>\n",
       "      <td>ABT.TO</td>\n",
       "      <td>01 Jan 2019</td>\n",
       "      <td>7.74</td>\n",
       "      <td>7.74</td>\n",
       "      <td>7.74</td>\n",
       "      <td>7.74</td>\n",
       "      <td>0</td>\n",
       "    </tr>\n",
       "    <tr>\n",
       "      <th>3</th>\n",
       "      <td>ABX.TO</td>\n",
       "      <td>01 Jan 2019</td>\n",
       "      <td>18.43</td>\n",
       "      <td>18.43</td>\n",
       "      <td>18.43</td>\n",
       "      <td>18.43</td>\n",
       "      <td>0</td>\n",
       "    </tr>\n",
       "    <tr>\n",
       "      <th>4</th>\n",
       "      <td>AC.TO</td>\n",
       "      <td>01 Jan 2019</td>\n",
       "      <td>25.96</td>\n",
       "      <td>25.96</td>\n",
       "      <td>25.96</td>\n",
       "      <td>25.96</td>\n",
       "      <td>0</td>\n",
       "    </tr>\n",
       "  </tbody>\n",
       "</table>\n",
       "</div>"
      ],
      "text/plain": [
       "   Symbol         Date   Open   High    Low  Close  Volume\n",
       "0  AAB.TO  01 Jan 2019   0.06   0.06   0.06   0.06       0\n",
       "1  AAV.TO  01 Jan 2019   1.98   1.98   1.98   1.98       0\n",
       "2  ABT.TO  01 Jan 2019   7.74   7.74   7.74   7.74       0\n",
       "3  ABX.TO  01 Jan 2019  18.43  18.43  18.43  18.43       0\n",
       "4   AC.TO  01 Jan 2019  25.96  25.96  25.96  25.96       0"
      ]
     },
     "execution_count": 7,
     "metadata": {},
     "output_type": "execute_result"
    }
   ],
   "source": [
    "data = pd.read_csv(\"Merged.csv\") \n",
    "data.head()"
   ]
  },
  {
   "cell_type": "code",
   "execution_count": 9,
   "metadata": {},
   "outputs": [],
   "source": [
    "data['Date'] =  pd.to_datetime(data['Date'], format='%d %b %Y')"
   ]
  },
  {
   "cell_type": "code",
   "execution_count": 10,
   "metadata": {},
   "outputs": [
    {
     "data": {
      "text/plain": [
       "0   2019-01-01\n",
       "1   2019-01-01\n",
       "2   2019-01-01\n",
       "3   2019-01-01\n",
       "4   2019-01-01\n",
       "Name: Date, dtype: datetime64[ns]"
      ]
     },
     "execution_count": 10,
     "metadata": {},
     "output_type": "execute_result"
    }
   ],
   "source": [
    "data['Date'].head()"
   ]
  },
  {
   "cell_type": "code",
   "execution_count": 11,
   "metadata": {},
   "outputs": [],
   "source": [
    "data = data.set_index('Date')"
   ]
  },
  {
   "cell_type": "code",
   "execution_count": 12,
   "metadata": {
    "scrolled": true
   },
   "outputs": [],
   "source": [
    "data['Year'] = data.index.year\n",
    "data['Month'] = data.index.month\n",
    "data['Weekday Name'] = data.index.weekday_name"
   ]
  },
  {
   "cell_type": "code",
   "execution_count": 18,
   "metadata": {},
   "outputs": [
    {
     "data": {
      "text/html": [
       "<div>\n",
       "<style scoped>\n",
       "    .dataframe tbody tr th:only-of-type {\n",
       "        vertical-align: middle;\n",
       "    }\n",
       "\n",
       "    .dataframe tbody tr th {\n",
       "        vertical-align: top;\n",
       "    }\n",
       "\n",
       "    .dataframe thead th {\n",
       "        text-align: right;\n",
       "    }\n",
       "</style>\n",
       "<table border=\"1\" class=\"dataframe\">\n",
       "  <thead>\n",
       "    <tr style=\"text-align: right;\">\n",
       "      <th></th>\n",
       "      <th>Symbol</th>\n",
       "      <th>Open</th>\n",
       "      <th>High</th>\n",
       "      <th>Low</th>\n",
       "      <th>Close</th>\n",
       "      <th>Volume</th>\n",
       "      <th>Year</th>\n",
       "      <th>Month</th>\n",
       "      <th>Weekday Name</th>\n",
       "    </tr>\n",
       "    <tr>\n",
       "      <th>Date</th>\n",
       "      <th></th>\n",
       "      <th></th>\n",
       "      <th></th>\n",
       "      <th></th>\n",
       "      <th></th>\n",
       "      <th></th>\n",
       "      <th></th>\n",
       "      <th></th>\n",
       "      <th></th>\n",
       "    </tr>\n",
       "  </thead>\n",
       "  <tbody>\n",
       "    <tr>\n",
       "      <th>2019-01-01</th>\n",
       "      <td>AAB.TO</td>\n",
       "      <td>0.06</td>\n",
       "      <td>0.06</td>\n",
       "      <td>0.06</td>\n",
       "      <td>0.06</td>\n",
       "      <td>0</td>\n",
       "      <td>2019</td>\n",
       "      <td>1</td>\n",
       "      <td>Tuesday</td>\n",
       "    </tr>\n",
       "    <tr>\n",
       "      <th>2019-01-01</th>\n",
       "      <td>AAV.TO</td>\n",
       "      <td>1.98</td>\n",
       "      <td>1.98</td>\n",
       "      <td>1.98</td>\n",
       "      <td>1.98</td>\n",
       "      <td>0</td>\n",
       "      <td>2019</td>\n",
       "      <td>1</td>\n",
       "      <td>Tuesday</td>\n",
       "    </tr>\n",
       "    <tr>\n",
       "      <th>2019-01-01</th>\n",
       "      <td>ABT.TO</td>\n",
       "      <td>7.74</td>\n",
       "      <td>7.74</td>\n",
       "      <td>7.74</td>\n",
       "      <td>7.74</td>\n",
       "      <td>0</td>\n",
       "      <td>2019</td>\n",
       "      <td>1</td>\n",
       "      <td>Tuesday</td>\n",
       "    </tr>\n",
       "    <tr>\n",
       "      <th>2019-01-01</th>\n",
       "      <td>ABX.TO</td>\n",
       "      <td>18.43</td>\n",
       "      <td>18.43</td>\n",
       "      <td>18.43</td>\n",
       "      <td>18.43</td>\n",
       "      <td>0</td>\n",
       "      <td>2019</td>\n",
       "      <td>1</td>\n",
       "      <td>Tuesday</td>\n",
       "    </tr>\n",
       "    <tr>\n",
       "      <th>2019-01-01</th>\n",
       "      <td>AC.TO</td>\n",
       "      <td>25.96</td>\n",
       "      <td>25.96</td>\n",
       "      <td>25.96</td>\n",
       "      <td>25.96</td>\n",
       "      <td>0</td>\n",
       "      <td>2019</td>\n",
       "      <td>1</td>\n",
       "      <td>Tuesday</td>\n",
       "    </tr>\n",
       "  </tbody>\n",
       "</table>\n",
       "</div>"
      ],
      "text/plain": [
       "            Symbol   Open   High    Low  Close  Volume  Year  Month  \\\n",
       "Date                                                                  \n",
       "2019-01-01  AAB.TO   0.06   0.06   0.06   0.06       0  2019      1   \n",
       "2019-01-01  AAV.TO   1.98   1.98   1.98   1.98       0  2019      1   \n",
       "2019-01-01  ABT.TO   7.74   7.74   7.74   7.74       0  2019      1   \n",
       "2019-01-01  ABX.TO  18.43  18.43  18.43  18.43       0  2019      1   \n",
       "2019-01-01   AC.TO  25.96  25.96  25.96  25.96       0  2019      1   \n",
       "\n",
       "           Weekday Name  \n",
       "Date                     \n",
       "2019-01-01      Tuesday  \n",
       "2019-01-01      Tuesday  \n",
       "2019-01-01      Tuesday  \n",
       "2019-01-01      Tuesday  \n",
       "2019-01-01      Tuesday  "
      ]
     },
     "execution_count": 18,
     "metadata": {},
     "output_type": "execute_result"
    }
   ],
   "source": [
    "data.head()"
   ]
  },
  {
   "cell_type": "code",
   "execution_count": 16,
   "metadata": {},
   "outputs": [],
   "source": [
    "feb = data.loc[data.Month == 2]"
   ]
  },
  {
   "cell_type": "code",
   "execution_count": 19,
   "metadata": {},
   "outputs": [
    {
     "data": {
      "text/html": [
       "<div>\n",
       "<style scoped>\n",
       "    .dataframe tbody tr th:only-of-type {\n",
       "        vertical-align: middle;\n",
       "    }\n",
       "\n",
       "    .dataframe tbody tr th {\n",
       "        vertical-align: top;\n",
       "    }\n",
       "\n",
       "    .dataframe thead th {\n",
       "        text-align: right;\n",
       "    }\n",
       "</style>\n",
       "<table border=\"1\" class=\"dataframe\">\n",
       "  <thead>\n",
       "    <tr style=\"text-align: right;\">\n",
       "      <th></th>\n",
       "      <th>Symbol</th>\n",
       "      <th>Open</th>\n",
       "      <th>High</th>\n",
       "      <th>Low</th>\n",
       "      <th>Close</th>\n",
       "      <th>Volume</th>\n",
       "      <th>Year</th>\n",
       "      <th>Month</th>\n",
       "      <th>Weekday Name</th>\n",
       "    </tr>\n",
       "    <tr>\n",
       "      <th>Date</th>\n",
       "      <th></th>\n",
       "      <th></th>\n",
       "      <th></th>\n",
       "      <th></th>\n",
       "      <th></th>\n",
       "      <th></th>\n",
       "      <th></th>\n",
       "      <th></th>\n",
       "      <th></th>\n",
       "    </tr>\n",
       "  </thead>\n",
       "  <tbody>\n",
       "    <tr>\n",
       "      <th>2019-02-01</th>\n",
       "      <td>AAB.TO</td>\n",
       "      <td>0.06</td>\n",
       "      <td>0.06</td>\n",
       "      <td>0.06</td>\n",
       "      <td>0.06</td>\n",
       "      <td>30000</td>\n",
       "      <td>2019</td>\n",
       "      <td>2</td>\n",
       "      <td>Friday</td>\n",
       "    </tr>\n",
       "    <tr>\n",
       "      <th>2019-02-01</th>\n",
       "      <td>AAV.TO</td>\n",
       "      <td>2.06</td>\n",
       "      <td>2.14</td>\n",
       "      <td>2.01</td>\n",
       "      <td>2.03</td>\n",
       "      <td>300877</td>\n",
       "      <td>2019</td>\n",
       "      <td>2</td>\n",
       "      <td>Friday</td>\n",
       "    </tr>\n",
       "    <tr>\n",
       "      <th>2019-02-01</th>\n",
       "      <td>ABT.TO</td>\n",
       "      <td>8.18</td>\n",
       "      <td>8.31</td>\n",
       "      <td>8.18</td>\n",
       "      <td>8.22</td>\n",
       "      <td>36475</td>\n",
       "      <td>2019</td>\n",
       "      <td>2</td>\n",
       "      <td>Friday</td>\n",
       "    </tr>\n",
       "    <tr>\n",
       "      <th>2019-02-01</th>\n",
       "      <td>ABX.TO</td>\n",
       "      <td>17.48</td>\n",
       "      <td>17.57</td>\n",
       "      <td>17.03</td>\n",
       "      <td>17.33</td>\n",
       "      <td>4424908</td>\n",
       "      <td>2019</td>\n",
       "      <td>2</td>\n",
       "      <td>Friday</td>\n",
       "    </tr>\n",
       "    <tr>\n",
       "      <th>2019-02-01</th>\n",
       "      <td>AC.TO</td>\n",
       "      <td>29.79</td>\n",
       "      <td>30.48</td>\n",
       "      <td>29.75</td>\n",
       "      <td>30.22</td>\n",
       "      <td>1724608</td>\n",
       "      <td>2019</td>\n",
       "      <td>2</td>\n",
       "      <td>Friday</td>\n",
       "    </tr>\n",
       "  </tbody>\n",
       "</table>\n",
       "</div>"
      ],
      "text/plain": [
       "            Symbol   Open   High    Low  Close   Volume  Year  Month  \\\n",
       "Date                                                                   \n",
       "2019-02-01  AAB.TO   0.06   0.06   0.06   0.06    30000  2019      2   \n",
       "2019-02-01  AAV.TO   2.06   2.14   2.01   2.03   300877  2019      2   \n",
       "2019-02-01  ABT.TO   8.18   8.31   8.18   8.22    36475  2019      2   \n",
       "2019-02-01  ABX.TO  17.48  17.57  17.03  17.33  4424908  2019      2   \n",
       "2019-02-01   AC.TO  29.79  30.48  29.75  30.22  1724608  2019      2   \n",
       "\n",
       "           Weekday Name  \n",
       "Date                     \n",
       "2019-02-01       Friday  \n",
       "2019-02-01       Friday  \n",
       "2019-02-01       Friday  \n",
       "2019-02-01       Friday  \n",
       "2019-02-01       Friday  "
      ]
     },
     "execution_count": 19,
     "metadata": {},
     "output_type": "execute_result"
    }
   ],
   "source": [
    "feb.head()"
   ]
  },
  {
   "cell_type": "code",
   "execution_count": 20,
   "metadata": {},
   "outputs": [],
   "source": [
    "import matplotlib.pyplot as plt\n",
    "import seaborn as sns"
   ]
  },
  {
   "cell_type": "code",
   "execution_count": 65,
   "metadata": {
    "scrolled": true
   },
   "outputs": [
    {
     "data": {
      "image/png": "[encoded data removed]",
      "text/plain": [
       "<Figure size 432x288 with 1 Axes>"
      ]
     },
     "metadata": {
      "needs_background": "light"
     },
     "output_type": "display_data"
    }
   ],
   "source": [
    "import matplotlib.dates as mdates\n",
    "\n",
    "AAB=data.loc[data.Symbol == 'AAB.TO']\n",
    "    \n",
    "ax = AAB['Close'].plot(marker='o', linestyle='-')\n",
    "ax.set_ylabel('Close of AAB.TO');\n",
    "ax.xaxis.set_major_locator(mdates.WeekdayLocator(byweekday=mdates.MONDAY))\n",
    "ax.xaxis.set_major_formatter(mdates.DateFormatter('%b %d'));"
   ]
  },
  {
   "cell_type": "code",
   "execution_count": 77,
   "metadata": {},
   "outputs": [],
   "source": [
    "data_columns = ['Open', 'Close', 'Volume']\n",
    "AAB_weekly_mean = AAB[data_columns].resample('W').mean()"
   ]
  },
  {
   "cell_type": "code",
   "execution_count": 81,
   "metadata": {
    "scrolled": true
   },
   "outputs": [
    {
     "data": {
      "image/png": "[encoded data removed]",
      "text/plain": [
       "<Figure size 432x288 with 1 Axes>"
      ]
     },
     "metadata": {
      "needs_background": "light"
     },
     "output_type": "display_data"
    }
   ],
   "source": [
    "start, end = '2019-01', '2019-03'\n",
    "# Plot daily and weekly resampled time series together\n",
    "fig, ax = plt.subplots()\n",
    "ax.plot(AAB.loc[start:end, 'Open'],\n",
    "marker='.', linestyle='-', linewidth=0.5, label='Daily')\n",
    "ax.plot(AAB_weekly_mean.loc[start:end, 'Open'],\n",
    "marker='o', markersize=8, linestyle='-', label='Weekly Mean Resample')\n",
    "ax.set_ylabel('Solar Production (GWh)')\n",
    "ax.xaxis.set_major_locator(mdates.WeekdayLocator(byweekday=mdates.MONDAY))\n",
    "ax.xaxis.set_major_formatter(mdates.DateFormatter('%b %d'));\n",
    "ax.legend();"
   ]
  },
  {
   "cell_type": "code",
   "execution_count": null,
   "metadata": {},
   "outputs": [],
   "source": []
  }
 ],
 "metadata": {
  "kernelspec": {
   "display_name": "Python 3",
   "language": "python",
   "name": "python3"
  },
  "language_info": {
   "codemirror_mode": {
    "name": "ipython",
    "version": 3
   },
   "file_extension": ".py",
   "mimetype": "text/x-python",
   "name": "python",
   "nbconvert_exporter": "python",
   "pygments_lexer": "ipython3",
   "version": "3.7.1"
  }
 },
 "nbformat": 4,
 "nbformat_minor": 2
}
